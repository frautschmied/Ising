{
 "cells": [
  {
   "cell_type": "markdown",
   "id": "230893ad",
   "metadata": {},
   "source": [
    "# Ising Model"
   ]
  },
  {
   "cell_type": "markdown",
   "id": "41dc2c07",
   "metadata": {},
   "source": [
    "## 1. What is Ising model?"
   ]
  },
  {
   "cell_type": "markdown",
   "id": "c1d6c3d7",
   "metadata": {},
   "source": [
    "Consider a set Λ of lattice sites, each with a set of adjacent sites (e.g. a graph) forming a d-dimensional lattice. For each lattice site k ∈ Λ there is a discrete variable σk such that σk  ∈ {+1, −1}, representing the site's spin. A spin configuration, σ = (σk)k ∈ Λ is an assignment of spin value to each lattice site.\n",
    "\n",
    "For any two adjacent sites i, j ∈ Λ there is an interaction Jij. Also a site j ∈ Λ has an external magnetic field hj interacting with it. The energy of a configuration σ is given by the Hamiltonian function\n",
    "\n",
    "$H(\\sigma)=-\\underset{<i,j>}{\\sum}J_{ij}\\sigma_i\\sigma_j-\\mu\\underset{j}{\\sum}h_j\\sigma_j$\n",
    "\n",
    "where the first sum is over pairs of adjacent spins (every pair is counted once). The notation ⟨ij⟩ indicates that sites i and j are nearest neighbors. The magnetic moment is given by µ.\n",
    "\n",
    "*from [Wikipedia](https://en.wikipedia.org/wiki/Ising_model)*"
   ]
  },
  {
   "cell_type": "markdown",
   "id": "89f0eab0",
   "metadata": {},
   "source": [
    "## 2. How to build?"
   ]
  },
  {
   "cell_type": "markdown",
   "id": "24de62fc",
   "metadata": {},
   "source": [
    "Install Python3, Jupyter, pybind11, and a supported C++ compiler. \\\n",
    "Run `./BuildCore.sh` to build `IsingCore` plugin (Tested on Ubuntu 21.04).\\\n",
    "Then import the plugin by executing,"
   ]
  },
  {
   "cell_type": "code",
   "execution_count": 2,
   "id": "512b41c5",
   "metadata": {},
   "outputs": [],
   "source": [
    "import IsingCore"
   ]
  },
  {
   "cell_type": "markdown",
   "id": "9e0f2a54",
   "metadata": {},
   "source": [
    "## 3. What can it do?"
   ]
  },
  {
   "cell_type": "markdown",
   "id": "a893288b",
   "metadata": {},
   "source": [
    "This module has two functions: metro and wolff, let's try them out."
   ]
  },
  {
   "cell_type": "code",
   "execution_count": 3,
   "id": "efd1ad19",
   "metadata": {},
   "outputs": [
    {
     "data": {
      "text/plain": [
       "[(260, -6448), (72, -6556), (210, -6512), (342, -6600), (476, -6704)]"
      ]
     },
     "execution_count": 3,
     "metadata": {},
     "output_type": "execute_result"
    }
   ],
   "source": [
    "IsingCore.metro(128, True, 5, 10000, 10000, 5, 0)"
   ]
  },
  {
   "cell_type": "code",
   "execution_count": 4,
   "id": "3f817ec9",
   "metadata": {},
   "outputs": [
    {
     "data": {
      "text/plain": [
       "[(218, -5016), (-102, -4532), (-108, -4200), (130, -3984)]"
      ]
     },
     "execution_count": 4,
     "metadata": {},
     "output_type": "execute_result"
    }
   ],
   "source": [
    "IsingCore.wolff(64, False, 3, 100, 100, 4, 1)"
   ]
  },
  {
   "cell_type": "markdown",
   "id": "04c5678f",
   "metadata": {},
   "source": [
    "They are different Monte Carlo algorithms but with the same input and output.\n",
    "\n",
    "- Input: `model_size`, `random_init`, `temperature`, `init_flip`, `step_flip`, `steps`, `wid`\n",
    "- Output: a list of Magnetization-Energy Pair in each thermo-step\n",
    "\n",
    "More specificly, they are..."
   ]
  },
  {
   "cell_type": "markdown",
   "id": "ab8c8766",
   "metadata": {},
   "source": [
    "### 3.1 The Metropolis Algorithm"
   ]
  },
  {
   "cell_type": "markdown",
   "id": "ace7e23d",
   "metadata": {},
   "source": [
    "(1) Choose an initial micro-state.\n",
    "\n",
    "(2) Choose a spin at random and flip it. (1/N selection probability)\n",
    "\n",
    "(3) Compute energy difference $\\Delta E=E_i-E_j$\n",
    "\n",
    "(4) Check if $\\Delta E\\leq 0$ in this case the trial micro-state is accepted.\n",
    "\n",
    "(5) If $\\Delta E > 0$, compute the ratio of probability $\\rho=e^{-\\beta \\Delta E}$\n",
    "\n",
    "(6) Choose a uniform random number “r” in the interval [0, 1].\n",
    "\n",
    "(7) Verify if $r\\leq \\rho$. In this case the trial micro-state is accepted, otherwise it is rejected.\n",
    "\n",
    "(8) Repeat steps (2) through (7) until all spins of the system are tested.\n",
    "\n",
    "(9) Compute the physical quantities of interest in “n” thermalized micro states. This can be done periodically in order to reduce correlation between the data points.\n",
    "\n",
    "(10)Compute average and variance."
   ]
  },
  {
   "cell_type": "markdown",
   "id": "12c5746c",
   "metadata": {},
   "source": [
    "### 3.2 The Wolff algorithm"
   ]
  },
  {
   "cell_type": "markdown",
   "id": "8d7a783d",
   "metadata": {},
   "source": [
    "(1) Choose a seed spin a random from the lattice.\n",
    "\n",
    "(2) Look in turn at each of the neighbours of that spin. If they are pointing in the same direction as\n",
    "the seed spin, add them to the cluster with probability $P_{add} = 1-e^{-2\\beta J}$\n",
    "\n",
    "(3) For each spin that was added in the last step, examine each of its neighbors to find the ones\n",
    "with are pointing in the same direction and add each of them to cluster with the same\n",
    "probability. This step is recreated as many times as necessary until there are no spins left in the\n",
    "cluster whose neighbor have not been considered for inclusion in the cluster.\n",
    "\n",
    "(4) Flip the cluster."
   ]
  },
  {
   "cell_type": "markdown",
   "id": "74bfd6ce",
   "metadata": {},
   "source": [
    "*from the lectures*"
   ]
  },
  {
   "cell_type": "markdown",
   "id": "fa1fe511",
   "metadata": {},
   "source": [
    "## 4. Results"
   ]
  },
  {
   "cell_type": "markdown",
   "id": "042ffa7e",
   "metadata": {},
   "source": [
    "Define some handy functions,"
   ]
  },
  {
   "cell_type": "code",
   "execution_count": 110,
   "id": "80fbacd4",
   "metadata": {},
   "outputs": [],
   "source": [
    "def M(l):\n",
    "    thesum = 0\n",
    "    for i in l:\n",
    "        thesum += i[0]\n",
    "    return thesum/len(l)\n",
    "\n",
    "def chi(l,T,n):\n",
    "    M1 = [i[0] for i in l]\n",
    "    M2 = [i*i for i in M1]\n",
    "    ret = [0.0 for i in l]\n",
    "    for i in range(len(l)):\n",
    "        ret[i] = (1/T) * n**2 * (M2[i]-M1[i]**2)\n",
    "    return ret\n",
    "\n",
    "def Cv(l,T,n):\n",
    "    E1 = [i[1] for i in l]\n",
    "    E2 = [i*i for i in E1]\n",
    "    ret = [0.0 for i in l]\n",
    "    for i in range(len(l)):\n",
    "        ret[i] = (1/T)**2 * n**(-2) * (E2[i]-E1[i]**2)\n",
    "    return ret"
   ]
  },
  {
   "cell_type": "markdown",
   "id": "5b0e8e7f",
   "metadata": {},
   "source": [
    "### 4.0 {32x32 64x64 128x128} $\\bigotimes$ {metro wolff} $\\bigotimes$ {$M$ $\\chi$ $C_v$} $\\bigoplus$ {48x48 96x96} $\\bigotimes$ {wolff} $\\bigotimes$ {$M$ $\\chi$}"
   ]
  },
  {
   "cell_type": "markdown",
   "id": "8079a5f9",
   "metadata": {},
   "source": [
    "Calculate required data."
   ]
  },
  {
   "cell_type": "code",
   "execution_count": 84,
   "id": "a64d10ad",
   "metadata": {},
   "outputs": [],
   "source": [
    "def m3(x):\n",
    "    return IsingCore.metro(32, True, x[0], 20000, 10000, 100, x[1])\n",
    "def m6(x):\n",
    "    return IsingCore.metro(64, True, x[0], 200000, 100000, 100, x[1])\n",
    "def m1(x):\n",
    "    return IsingCore.metro(128, True, x[0], 2000000, 1000000, 100, x[1])\n",
    "def w3(x):\n",
    "    return IsingCore.wolff(32, True, x[0], 10000, 1000, 100, x[1])\n",
    "def w4(x):\n",
    "    return IsingCore.wolff(48, True, x[0], 3000, 3000, 100, x[1])\n",
    "def w6(x):\n",
    "    return IsingCore.wolff(64, True, x[0], 100000, 10000, 100, x[1])\n",
    "def w9(x):\n",
    "    return IsingCore.wolff(96, True, x[0], 300000, 30000, 100, x[1])\n",
    "def w1(x):\n",
    "    return IsingCore.wolff(128, True, x[0], 100000, 10000, 100, x[1])"
   ]
  },
  {
   "cell_type": "code",
   "execution_count": 145,
   "id": "98c97864",
   "metadata": {},
   "outputs": [],
   "source": [
    "import numpy as np\n",
    "ctr = 0\n",
    "tasks = []\n",
    "for t in np.linspace(1.7,2.7,100):\n",
    "    tasks += [(t,ctr)]\n",
    "    ctr += 1\n",
    "t = np.linspace(1.7,2.7,100)\n",
    "\n",
    "from multiprocessing import Pool\n",
    "data = []\n",
    "with Pool(15) as p:\n",
    "    data = p.map(m6, tasks)"
   ]
  },
  {
   "cell_type": "code",
   "execution_count": 146,
   "id": "2821cb54",
   "metadata": {},
   "outputs": [],
   "source": [
    "lM = []\n",
    "lc = []\n",
    "lC = []\n",
    "for i in range(len(data)):\n",
    "    lM.append(M(data[i]))\n",
    "    lc.append(chi(data[i],t[i],32))\n",
    "    lC.append(Cv(data[i],t[i],32))"
   ]
  },
  {
   "cell_type": "code",
   "execution_count": 147,
   "id": "72b98e7d",
   "metadata": {
    "scrolled": true
   },
   "outputs": [
    {
     "data": {
      "text/plain": [
       "[<matplotlib.lines.Line2D at 0x7f420105eb80>]"
      ]
     },
     "execution_count": 147,
     "metadata": {},
     "output_type": "execute_result"
    },
    {
     "data": {
      "image/png": "[encoded data removed]",
      "text/plain": [
       "<Figure size 432x288 with 1 Axes>"
      ]
     },
     "metadata": {
      "needs_background": "light"
     },
     "output_type": "display_data"
    }
   ],
   "source": [
    "plt.plot([abs(i) for i in lM])"
   ]
  },
  {
   "cell_type": "code",
   "execution_count": 124,
   "id": "22fbc7fa",
   "metadata": {},
   "outputs": [
    {
     "data": {
      "text/plain": [
       "[<matplotlib.lines.Line2D at 0x7f4201502ac0>,\n",
       " <matplotlib.lines.Line2D at 0x7f4201502af0>,\n",
       " <matplotlib.lines.Line2D at 0x7f4201502c10>,\n",
       " <matplotlib.lines.Line2D at 0x7f4201502d30>,\n",
       " <matplotlib.lines.Line2D at 0x7f4201502e50>,\n",
       " <matplotlib.lines.Line2D at 0x7f4201502f70>,\n",
       " <matplotlib.lines.Line2D at 0x7f42015100d0>,\n",
       " <matplotlib.lines.Line2D at 0x7f42015101f0>,\n",
       " <matplotlib.lines.Line2D at 0x7f4201510310>,\n",
       " <matplotlib.lines.Line2D at 0x7f4201510430>,\n",
       " <matplotlib.lines.Line2D at 0x7f420155d6d0>,\n",
       " <matplotlib.lines.Line2D at 0x7f4201510550>,\n",
       " <matplotlib.lines.Line2D at 0x7f4201510760>,\n",
       " <matplotlib.lines.Line2D at 0x7f4201510880>,\n",
       " <matplotlib.lines.Line2D at 0x7f42015109a0>,\n",
       " <matplotlib.lines.Line2D at 0x7f4201510ac0>,\n",
       " <matplotlib.lines.Line2D at 0x7f4201510be0>,\n",
       " <matplotlib.lines.Line2D at 0x7f4201510d00>,\n",
       " <matplotlib.lines.Line2D at 0x7f4201510e20>,\n",
       " <matplotlib.lines.Line2D at 0x7f4201510f40>,\n",
       " <matplotlib.lines.Line2D at 0x7f42015160a0>,\n",
       " <matplotlib.lines.Line2D at 0x7f42015161c0>,\n",
       " <matplotlib.lines.Line2D at 0x7f42015162e0>,\n",
       " <matplotlib.lines.Line2D at 0x7f4201516400>,\n",
       " <matplotlib.lines.Line2D at 0x7f4201516520>,\n",
       " <matplotlib.lines.Line2D at 0x7f4201516640>,\n",
       " <matplotlib.lines.Line2D at 0x7f4201516760>,\n",
       " <matplotlib.lines.Line2D at 0x7f4201516880>,\n",
       " <matplotlib.lines.Line2D at 0x7f42015169a0>,\n",
       " <matplotlib.lines.Line2D at 0x7f4201516ac0>,\n",
       " <matplotlib.lines.Line2D at 0x7f4201516be0>,\n",
       " <matplotlib.lines.Line2D at 0x7f4201516d00>,\n",
       " <matplotlib.lines.Line2D at 0x7f4201516e20>,\n",
       " <matplotlib.lines.Line2D at 0x7f4201516f40>,\n",
       " <matplotlib.lines.Line2D at 0x7f420151e0a0>,\n",
       " <matplotlib.lines.Line2D at 0x7f420151e1c0>,\n",
       " <matplotlib.lines.Line2D at 0x7f420151e2e0>,\n",
       " <matplotlib.lines.Line2D at 0x7f420151e400>,\n",
       " <matplotlib.lines.Line2D at 0x7f420151e520>,\n",
       " <matplotlib.lines.Line2D at 0x7f420151e640>,\n",
       " <matplotlib.lines.Line2D at 0x7f420151e760>,\n",
       " <matplotlib.lines.Line2D at 0x7f420151e880>,\n",
       " <matplotlib.lines.Line2D at 0x7f420151e9a0>,\n",
       " <matplotlib.lines.Line2D at 0x7f420151eac0>,\n",
       " <matplotlib.lines.Line2D at 0x7f420151ebe0>,\n",
       " <matplotlib.lines.Line2D at 0x7f420151ed00>,\n",
       " <matplotlib.lines.Line2D at 0x7f420151ee20>,\n",
       " <matplotlib.lines.Line2D at 0x7f420151ef40>,\n",
       " <matplotlib.lines.Line2D at 0x7f42015240a0>,\n",
       " <matplotlib.lines.Line2D at 0x7f42015241c0>,\n",
       " <matplotlib.lines.Line2D at 0x7f42015242e0>,\n",
       " <matplotlib.lines.Line2D at 0x7f4201524400>,\n",
       " <matplotlib.lines.Line2D at 0x7f4201524520>,\n",
       " <matplotlib.lines.Line2D at 0x7f4201524640>,\n",
       " <matplotlib.lines.Line2D at 0x7f4201524760>,\n",
       " <matplotlib.lines.Line2D at 0x7f4201524880>,\n",
       " <matplotlib.lines.Line2D at 0x7f42015249a0>,\n",
       " <matplotlib.lines.Line2D at 0x7f4201524ac0>,\n",
       " <matplotlib.lines.Line2D at 0x7f4201524be0>,\n",
       " <matplotlib.lines.Line2D at 0x7f4201524d00>,\n",
       " <matplotlib.lines.Line2D at 0x7f4201524e20>,\n",
       " <matplotlib.lines.Line2D at 0x7f4201524f40>,\n",
       " <matplotlib.lines.Line2D at 0x7f42015290a0>,\n",
       " <matplotlib.lines.Line2D at 0x7f42015291c0>,\n",
       " <matplotlib.lines.Line2D at 0x7f42015292e0>,\n",
       " <matplotlib.lines.Line2D at 0x7f4201529400>,\n",
       " <matplotlib.lines.Line2D at 0x7f4201529520>,\n",
       " <matplotlib.lines.Line2D at 0x7f4201529640>,\n",
       " <matplotlib.lines.Line2D at 0x7f4201529760>,\n",
       " <matplotlib.lines.Line2D at 0x7f4201529880>,\n",
       " <matplotlib.lines.Line2D at 0x7f42015299a0>,\n",
       " <matplotlib.lines.Line2D at 0x7f4201529ac0>,\n",
       " <matplotlib.lines.Line2D at 0x7f4201529be0>,\n",
       " <matplotlib.lines.Line2D at 0x7f4201529d00>,\n",
       " <matplotlib.lines.Line2D at 0x7f4201529e20>,\n",
       " <matplotlib.lines.Line2D at 0x7f4201529f40>,\n",
       " <matplotlib.lines.Line2D at 0x7f42015300a0>,\n",
       " <matplotlib.lines.Line2D at 0x7f42015301c0>,\n",
       " <matplotlib.lines.Line2D at 0x7f42015302e0>,\n",
       " <matplotlib.lines.Line2D at 0x7f4201530400>,\n",
       " <matplotlib.lines.Line2D at 0x7f4201530520>,\n",
       " <matplotlib.lines.Line2D at 0x7f4201530640>,\n",
       " <matplotlib.lines.Line2D at 0x7f4201530760>,\n",
       " <matplotlib.lines.Line2D at 0x7f4201530880>,\n",
       " <matplotlib.lines.Line2D at 0x7f42015309a0>,\n",
       " <matplotlib.lines.Line2D at 0x7f4201530ac0>,\n",
       " <matplotlib.lines.Line2D at 0x7f4201530be0>,\n",
       " <matplotlib.lines.Line2D at 0x7f4201530d00>,\n",
       " <matplotlib.lines.Line2D at 0x7f4201530e20>,\n",
       " <matplotlib.lines.Line2D at 0x7f4201530f40>,\n",
       " <matplotlib.lines.Line2D at 0x7f42014b60a0>,\n",
       " <matplotlib.lines.Line2D at 0x7f42014b61c0>,\n",
       " <matplotlib.lines.Line2D at 0x7f42014b62e0>,\n",
       " <matplotlib.lines.Line2D at 0x7f42014b6400>,\n",
       " <matplotlib.lines.Line2D at 0x7f42014b6520>,\n",
       " <matplotlib.lines.Line2D at 0x7f42014b6640>,\n",
       " <matplotlib.lines.Line2D at 0x7f42014b6760>,\n",
       " <matplotlib.lines.Line2D at 0x7f42014b6880>,\n",
       " <matplotlib.lines.Line2D at 0x7f42014b69a0>,\n",
       " <matplotlib.lines.Line2D at 0x7f42014b6ac0>]"
      ]
     },
     "execution_count": 124,
     "metadata": {},
     "output_type": "execute_result"
    },
    {
     "data": {
      "image/png": "[encoded data removed]",
      "text/plain": [
       "<Figure size 432x288 with 1 Axes>"
      ]
     },
     "metadata": {
      "needs_background": "light"
     },
     "output_type": "display_data"
    }
   ],
   "source": [
    "import matplotlib.pyplot as plt\n",
    "plt.plot(lc)"
   ]
  },
  {
   "cell_type": "markdown",
   "id": "71612dc8",
   "metadata": {},
   "source": [
    "### 4.1 {32x32 64x64 128x128} $\\bigotimes$ {metro wolff} $\\bigotimes$ {$M$ $\\chi$ $C_v$}"
   ]
  },
  {
   "cell_type": "markdown",
   "id": "26d75b13",
   "metadata": {},
   "source": [
    "### 4.2 {128x128} $\\bigotimes$ {wolff} $\\bigotimes$ {$M$ $\\chi$}"
   ]
  },
  {
   "cell_type": "markdown",
   "id": "d9662a61",
   "metadata": {},
   "source": [
    "### 4.3 {32x32 48x48 64x64 96x96 128x128} $\\bigotimes$ {wolff} $\\bigotimes$ {$M$ $\\chi$} $\\bigotimes$ {$T_c$ $\\nu$ $\\beta$ $gamma$}"
   ]
  },
  {
   "cell_type": "code",
   "execution_count": null,
   "id": "6d84418d",
   "metadata": {},
   "outputs": [],
   "source": []
  }
 ],
 "metadata": {
  "kernelspec": {
   "display_name": "Python 3",
   "language": "python",
   "name": "python3"
  },
  "language_info": {
   "codemirror_mode": {
    "name": "ipython",
    "version": 3
   },
   "file_extension": ".py",
   "mimetype": "text/x-python",
   "name": "python",
   "nbconvert_exporter": "python",
   "pygments_lexer": "ipython3",
   "version": "3.9.5"
  }
 },
 "nbformat": 4,
 "nbformat_minor": 5
}
